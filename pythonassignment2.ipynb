{
  "nbformat": 4,
  "nbformat_minor": 0,
  "metadata": {
    "colab": {
      "name": "pythonassignment2.ipynb",
      "provenance": [],
      "collapsed_sections": []
    },
    "kernelspec": {
      "name": "python3",
      "display_name": "Python 3"
    }
  },
  "cells": [
    {
      "cell_type": "code",
      "metadata": {
        "id": "C67WSiHzhkBL",
        "colab_type": "code",
        "colab": {}
      },
      "source": [
        "1. Create the below pattern using nested for loop in Python.\n",
        "*\n",
        "**\n",
        "***\n",
        "****\n",
        "*****\n",
        "****\n",
        "***\n",
        "**\n",
        "*"
      ],
      "execution_count": null,
      "outputs": []
    },
    {
      "cell_type": "code",
      "metadata": {
        "id": "FDO6DToIzALU",
        "colab_type": "code",
        "colab": {
          "base_uri": "https://localhost:8080/",
          "height": 119
        },
        "outputId": "fe436992-d7a3-4024-9760-330391d90088"
      },
      "source": [
        "inp=int(input(\"Enter the number:\"))\n",
        "for i in range(0,inp):\n",
        "    for j in range(0,i+1):\n",
        "       print (\"*\",end=\" \")\n",
        "    print()"
      ],
      "execution_count": null,
      "outputs": [
        {
          "output_type": "stream",
          "text": [
            "Enter the number:5\n",
            "* \n",
            "* * \n",
            "* * * \n",
            "* * * * \n",
            "* * * * * \n"
          ],
          "name": "stdout"
        }
      ]
    },
    {
      "cell_type": "code",
      "metadata": {
        "id": "lBBUh6yv29eO",
        "colab_type": "code",
        "colab": {
          "base_uri": "https://localhost:8080/",
          "height": 119
        },
        "outputId": "ab97bfe0-3a1b-4a8d-d542-6c9223d006b1"
      },
      "source": [
        "inp=int(input(\"Enter the number:\"))\n",
        "for i in range(0,inp):\n",
        "    for j in range(0,inp-i):\n",
        "         print (\"*\",end=\" \")\n",
        "    print()"
      ],
      "execution_count": null,
      "outputs": [
        {
          "output_type": "stream",
          "text": [
            "Enter the number:5\n",
            "* * * * * \n",
            "* * * * \n",
            "* * * \n",
            "* * \n",
            "* \n"
          ],
          "name": "stdout"
        }
      ]
    },
    {
      "cell_type": "code",
      "metadata": {
        "id": "RVV8jKP9geXh",
        "colab_type": "code",
        "colab": {
          "base_uri": "https://localhost:8080/",
          "height": 204
        },
        "outputId": "ed514d3e-78f6-4e03-d0ec-984d280f1cbb"
      },
      "source": [
        "# ANS1 Final Solution \n",
        "inp=int(input(\"Enter the number:\"))\n",
        "for i in range(0,inp):\n",
        "    for j in range(0,i+1):\n",
        "       print (\"*\",end=\" \")\n",
        "    print()\n",
        "for i in range(0,inp):\n",
        "    for j in range(0,((inp-i)-1)):\n",
        "         print (\"*\",end=\" \")\n",
        "    print() "
      ],
      "execution_count": null,
      "outputs": [
        {
          "output_type": "stream",
          "text": [
            "Enter the number:5\n",
            "* \n",
            "* * \n",
            "* * * \n",
            "* * * * \n",
            "* * * * * \n",
            "* * * * \n",
            "* * * \n",
            "* * \n",
            "* \n",
            "\n"
          ],
          "name": "stdout"
        }
      ]
    },
    {
      "cell_type": "markdown",
      "metadata": {
        "id": "MEm1gERcWRoL",
        "colab_type": "text"
      },
      "source": [
        "# Q2.Write a Python program to reverse a word after accepting the input from the user.\n",
        "\n"
      ]
    },
    {
      "cell_type": "markdown",
      "metadata": {
        "id": "GTg4JL5KiueL",
        "colab_type": "text"
      },
      "source": [
        "# Get a word as input from user"
      ]
    },
    {
      "cell_type": "code",
      "metadata": {
        "id": "WQYWNFUunEgz",
        "colab_type": "code",
        "colab": {}
      },
      "source": [
        "#creating empty list\n",
        "ent_rev=[]"
      ],
      "execution_count": null,
      "outputs": []
    },
    {
      "cell_type": "code",
      "metadata": {
        "id": "QUIW7fYehv_i",
        "colab_type": "code",
        "colab": {
          "base_uri": "https://localhost:8080/",
          "height": 34
        },
        "outputId": "6bf6eda6-1f62-49f7-8ff5-dfc4c3552df5"
      },
      "source": [
        "#taking input from user \n",
        "ele = input(\"Enter the word:\")\n"
      ],
      "execution_count": null,
      "outputs": [
        {
          "output_type": "stream",
          "text": [
            "Enter the word:neeti\n"
          ],
          "name": "stdout"
        }
      ]
    },
    {
      "cell_type": "code",
      "metadata": {
        "id": "lChQZQUTr7qz",
        "colab_type": "code",
        "colab": {
          "base_uri": "https://localhost:8080/",
          "height": 34
        },
        "outputId": "b1d15e6f-fa5b-4807-e173-9f18358b2b1d"
      },
      "source": [
        "#How to reverse a string \n",
        "ele_rev = ele[::-1]\n",
        "print(ele_rev)"
      ],
      "execution_count": null,
      "outputs": [
        {
          "output_type": "stream",
          "text": [
            "iteen\n"
          ],
          "name": "stdout"
        }
      ]
    },
    {
      "cell_type": "code",
      "metadata": {
        "id": "4Cnaswc8kmH8",
        "colab_type": "code",
        "colab": {}
      },
      "source": [
        "#How to append reversed elements in a list \n",
        "ent_rev.append(ele_rev)      "
      ],
      "execution_count": null,
      "outputs": []
    },
    {
      "cell_type": "code",
      "metadata": {
        "id": "1iJb3UNevbaw",
        "colab_type": "code",
        "colab": {
          "base_uri": "https://localhost:8080/",
          "height": 34
        },
        "outputId": "2f2d229d-1269-4dac-b4c2-c2d9a9fbe6fa"
      },
      "source": [
        "print(ent_rev) "
      ],
      "execution_count": null,
      "outputs": [
        {
          "output_type": "stream",
          "text": [
            "['iteen']\n"
          ],
          "name": "stdout"
        }
      ]
    },
    {
      "cell_type": "markdown",
      "metadata": {
        "id": "1JgQoyX3dkSI",
        "colab_type": "text"
      },
      "source": [
        "# Get a list as input from user\n"
      ]
    },
    {
      "cell_type": "code",
      "metadata": {
        "id": "lR24_n7wEFqc",
        "colab_type": "code",
        "colab": {}
      },
      "source": [
        "# creating an empty list \n",
        "lst = [] "
      ],
      "execution_count": null,
      "outputs": []
    },
    {
      "cell_type": "markdown",
      "metadata": {
        "id": "8lKzVEtvED3b",
        "colab_type": "text"
      },
      "source": [
        ""
      ]
    },
    {
      "cell_type": "code",
      "metadata": {
        "id": "ag09WRHXh_BV",
        "colab_type": "code",
        "colab": {
          "base_uri": "https://localhost:8080/",
          "height": 34
        },
        "outputId": "c28cca7a-8d0c-4134-af95-7da402d4a027"
      },
      "source": [
        "# number of elemetns as input \n",
        "n = int(input(\"Enter number of elements : \"))\n",
        "  \n"
      ],
      "execution_count": null,
      "outputs": [
        {
          "output_type": "stream",
          "text": [
            "Enter number of elements : 2\n"
          ],
          "name": "stdout"
        }
      ]
    },
    {
      "cell_type": "code",
      "metadata": {
        "id": "aI-pvZYzEoRn",
        "colab_type": "code",
        "colab": {
          "base_uri": "https://localhost:8080/",
          "height": 68
        },
        "outputId": "53ac4625-f733-42c8-ad2f-9bb4f15acd1a"
      },
      "source": [
        "# iterating till the range \n",
        "for i in range(0, n): \n",
        "    ele = input()\n",
        "    # print(lst)\n",
        "  # reverse a string \n",
        "    ele_rev = ele[::-1]\n",
        "    # print(ele_rev)\n",
        "    lst.append(ele_rev) # adding the element \n",
        "      \n",
        "print(lst) "
      ],
      "execution_count": null,
      "outputs": [
        {
          "output_type": "stream",
          "text": [
            "neeti\n",
            "singh\n",
            "['iteen', 'hgnis']\n"
          ],
          "name": "stdout"
        }
      ]
    }
  ]
}